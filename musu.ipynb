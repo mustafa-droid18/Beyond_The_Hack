{
 "cells": [
  {
   "cell_type": "code",
   "execution_count": null,
   "metadata": {
    "vscode": {
     "languageId": "plaintext"
    }
   },
   "outputs": [],
   "source": [
    "from sklearn.ensemble import IsolationForest\n",
    "from sklearn.metrics import precision_score, recall_score, f1_score, classification_report\n",
    "import numpy as np\n",
    "\n",
    "# Select features (dropping target columns for anomaly detection)\n",
    "feature_columns = data.drop(\n",
    "    columns=[\"charge_off_within_3_months\", \"charge_off_within_6_months\", \n",
    "             \"charge_off_within_9_months\", \"charge_off_within_12_months\"]\n",
    ")\n",
    "target_column = \"charge_off_within_12_months\"  # Use one target column for evaluation\n",
    "targets = data[target_column]\n",
    "\n",
    "# Fit Isolation Forest for anomaly detection\n",
    "isolation_forest = IsolationForest(n_estimators=100, contamination='auto', random_state=42)\n",
    "isolation_forest.fit(feature_columns)\n",
    "\n",
    "# Predict anomalies\n",
    "predictions = isolation_forest.predict(feature_columns)\n",
    "# Convert predictions to binary: -1 (anomaly) becomes 1, and 1 (normal) becomes 0\n",
    "binary_predictions = np.where(predictions == -1, 1, 0)\n",
    "\n",
    "# Evaluation\n",
    "print(\"Classification Report:\")\n",
    "print(classification_report(targets, binary_predictions, target_names=[\"No Charge-Off\", \"Charge-Off\"]))\n",
    "\n",
    "# Precision, Recall, and F1-Score\n",
    "precision = precision_score(targets, binary_predictions)\n",
    "recall = recall_score(targets, binary_predictions)\n",
    "f1 = f1_score(targets, binary_predictions)\n",
    "\n",
    "print(f\"Precision: {precision:.4f}\")\n",
    "print(f\"Recall: {recall:.4f}\")\n",
    "print(f\"F1-Score: {f1:.4f}\")\n"
   ]
  },
  {
   "cell_type": "code",
   "execution_count": null,
   "metadata": {
    "vscode": {
     "languageId": "plaintext"
    }
   },
   "outputs": [],
   "source": [
    "from sklearn.ensemble import IsolationForest\n",
    "from sklearn.metrics import precision_score, recall_score, f1_score, classification_report\n",
    "import numpy as np\n",
    "\n",
    "# Select features (dropping target columns for anomaly detection)\n",
    "feature_columns = data.drop(\n",
    "    columns=[\"charge_off_within_3_months\", \"charge_off_within_6_months\", \n",
    "             \"charge_off_within_9_months\", \"charge_off_within_12_months\"]\n",
    ")\n",
    "target_column = \"charge_off_within_12_months\"  # Use one target column for evaluation\n",
    "targets = data[target_column]\n",
    "\n",
    "# Fit Isolation Forest for anomaly detection\n",
    "isolation_forest = IsolationForest(n_estimators=100, contamination='auto', random_state=42)\n",
    "isolation_forest.fit(feature_columns)\n",
    "\n",
    "# Predict anomalies\n",
    "predictions = isolation_forest.predict(feature_columns)\n",
    "# Convert predictions to binary: -1 (anomaly) becomes 1, and 1 (normal) becomes 0\n",
    "binary_predictions = np.where(predictions == -1, 1, 0)\n",
    "\n",
    "# Evaluation\n",
    "print(\"Classification Report:\")\n",
    "print(classification_report(targets, binary_predictions, target_names=[\"No Charge-Off\", \"Charge-Off\"]))\n",
    "\n",
    "# Precision, Recall, and F1-Score\n",
    "precision = precision_score(targets, binary_predictions)\n",
    "recall = recall_score(targets, binary_predictions)\n",
    "f1 = f1_score(targets, binary_predictions)\n",
    "\n",
    "print(f\"Precision: {precision:.4f}\")\n",
    "print(f\"Recall: {recall:.4f}\")\n",
    "print(f\"F1-Score: {f1:.4f}\")\n"
   ]
  },
  {
   "cell_type": "code",
   "execution_count": null,
   "metadata": {
    "vscode": {
     "languageId": "plaintext"
    }
   },
   "outputs": [],
   "source": []
  }
 ],
 "metadata": {
  "language_info": {
   "name": "python"
  }
 },
 "nbformat": 4,
 "nbformat_minor": 2
}
